{
 "cells": [
  {
   "cell_type": "code",
   "execution_count": 2,
   "metadata": {},
   "outputs": [
    {
     "ename": "ModuleNotFoundError",
     "evalue": "No module named 'twitter'",
     "output_type": "error",
     "traceback": [
      "\u001b[0;31m---------------------------------------------------------------------------\u001b[0m",
      "\u001b[0;31mModuleNotFoundError\u001b[0m                       Traceback (most recent call last)",
      "\u001b[0;32m<ipython-input-2-6e2bf24b8489>\u001b[0m in \u001b[0;36m<module>\u001b[0;34m()\u001b[0m\n\u001b[1;32m      1\u001b[0m \u001b[0;31m# Finding topics of interest by using the filtering capablities it offers.\u001b[0m\u001b[0;34m\u001b[0m\u001b[0;34m\u001b[0m\u001b[0m\n\u001b[0;32m----> 2\u001b[0;31m \u001b[0;32mimport\u001b[0m \u001b[0mtwitter\u001b[0m\u001b[0;34m\u001b[0m\u001b[0m\n\u001b[0m\u001b[1;32m      3\u001b[0m \u001b[0;32mimport\u001b[0m \u001b[0mjson\u001b[0m\u001b[0;34m\u001b[0m\u001b[0m\n\u001b[1;32m      4\u001b[0m \u001b[0;32mimport\u001b[0m \u001b[0msys\u001b[0m\u001b[0;34m\u001b[0m\u001b[0m\n\u001b[1;32m      5\u001b[0m \u001b[0;32mimport\u001b[0m \u001b[0mcsv\u001b[0m\u001b[0;34m\u001b[0m\u001b[0m\n",
      "\u001b[0;31mModuleNotFoundError\u001b[0m: No module named 'twitter'"
     ]
    }
   ],
   "source": [
    "# Finding topics of interest by using the filtering capablities it offers.\n",
    "import twitter\n",
    "import json\n",
    "import sys\n",
    "import csv\n",
    "\n",
    "csvfile = open('MetooData.csv','a')\n",
    "csvwriter = csv.writer(csvfile)\n",
    " \n",
    "# == OAuth Authentication ==\n",
    "# The consumer keys can be found on your application's Details\n",
    "# page located at https://dev.twitter.com/apps (under \"Keys and tokens\")\n",
    " # PUT YOUR KEYS AND SECRETS IN HERE, IT WONT WORK WITHOUT YOUR KEYS FROM TWITTER !!!!!\n",
    "consumer_key=\"WRzrHerkO3PQFE9PsbOSVJxUO\"\n",
    "consumer_secret=\"l2F8owgWRm33SeK7ts5Vs6yBU3Qd2FbXzVoM2x9k0BFsXbqLfr\"\n",
    " \n",
    "# After the step above, you will be redirected to your app's page.\n",
    "# Create an access token under the the \"Your access token\" section\n",
    "access_token=\"527454179-JZ7zT9M4jgffQYqn3SG7W1z3UdphCT5irgXI96Qa\"\n",
    "access_token_secret=\"Ljtj25dztSwJ4OGs2IfB2vkGhdghmvZl4cLMSkCssKxnJ\"\n",
    " \n",
    "auth = twitter.oauth.OAuth(access_token, access_token_secret,consumer_key, consumer_secret)\n",
    "twitter_api = twitter.Twitter(auth=auth)\n",
    "# Query terms\n",
    "q = '#metoo' # Comma-separated list of terms, start with something busy to test your script, then once you know its working put your hashtags in, max 400 tags\n",
    "print >> sys.stderr, 'Filtering the public timeline for track=\"%s\"' % (q,)\n",
    "# Reference the self.auth parameter\n",
    "twitter_stream = twitter.TwitterStream(auth=twitter_api.auth)\n",
    "# See https://dev.twitter.com/docs/streaming-apis\n",
    "stream = twitter_stream.statuses.filter(track=q)\n",
    "# For illustrative purposes, when all else fails, search for a relevant topic such as Madonna\n",
    "# and something is sure to turn up (at least, on Twitter)\n",
    "# note that stream is a special never ending list so this loops non stop\n",
    "# to stop it type CMD-C at the terminal where its running\n",
    "for tweet in stream:\n",
    "\t# what is this thing called a tweet?\n",
    "\t# its a structured object in JSON format. We can treat this as a python dictionary - http://learnpythonthehardway.org/book/ex39.html\n",
    "\t# sometimes it helps to dump an entire tweet using the line below so you can see the names of the fields\n",
    "\t# print json.dumps(tweet, indent=1')\n",
    "\tprint (tweet['text'])\n",
    "\t\n",
    "\tcsvwriter.writerow([tweet['text'].encode('utf-8'),tweet['user']['screen_name'].encode('utf-8'),tweet['created_at']])\n",
    "\t\n",
    "\t\n",
    "\n",
    "\n"
   ]
  },
  {
   "cell_type": "code",
   "execution_count": null,
   "metadata": {
    "collapsed": true
   },
   "outputs": [],
   "source": []
  }
 ],
 "metadata": {
  "kernelspec": {
   "display_name": "Python 3",
   "language": "python",
   "name": "python3"
  },
  "language_info": {
   "codemirror_mode": {
    "name": "ipython",
    "version": 3
   },
   "file_extension": ".py",
   "mimetype": "text/x-python",
   "name": "python",
   "nbconvert_exporter": "python",
   "pygments_lexer": "ipython3",
   "version": "3.6.4"
  }
 },
 "nbformat": 4,
 "nbformat_minor": 2
}
