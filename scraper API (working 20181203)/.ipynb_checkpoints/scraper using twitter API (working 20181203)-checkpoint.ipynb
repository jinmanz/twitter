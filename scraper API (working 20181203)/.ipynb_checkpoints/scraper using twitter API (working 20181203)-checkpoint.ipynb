{
 "cells": [
  {
   "cell_type": "code",
   "execution_count": 1,
   "metadata": {
    "collapsed": true
   },
   "outputs": [],
   "source": [
    " # -*- coding: utf-8 -*-     \n",
    "import tweepy \n",
    "from tweepy import OAuthHandler\n",
    "import csv\n",
    "import time\n",
    "\n",
    "\n",
    "consumer_key = \"WRzrHerkO3PQFE9PsbOSVJxUO\"  \n",
    "consumer_secret = \"l2F8owgWRm33SeK7ts5Vs6yBU3Qd2FbXzVoM2x9k0BFsXbqLfr\"  \n",
    "access_token = \"527454179-JZ7zT9M4jgffQYqn3SG7W1z3UdphCT5irgXI96Qa\"  \n",
    "access_token_secret = \"Ljtj25dztSwJ4OGs2IfB2vkGhdghmvZl4cLMSkCssKxnJ\" \n",
    "\n",
    "# 使用API对象获取你的时间轴上的微博，并把结果存在一个叫做public_tweets的变量中\n",
    "auth = OAuthHandler(consumer_key, consumer_secret)\n",
    "auth.set_access_token(access_token, access_token_secret)\n",
    "api = tweepy.API(auth)\n",
    "public_tweets = api.home_timeline()  \n",
    "\n",
    "# 传入认证信息，并创建API对象\n",
    "api = tweepy.API(auth)\n",
    "\n",
    "# 你想查找的关键字\n",
    "query = '#Metoo'or'#我也是'\n",
    "# 语言代码（遵循ISO 639-1标准）\n",
    "language = 'zh'\n",
    "    \n",
    "#把用户名和text存到一个csv  \n",
    "rows = []\n",
    "i = 0\n",
    "fo = open('zh_metoo-1201.txt', 'a')\n",
    "#取1000条\n",
    "while i < 10:\n",
    "    results = api.search(q=query, lang=language, since='2018-12-01', until='2018-12-02',include_rts='true',count = 2000)\n",
    "    for tweet in results:\n",
    "        if hasattr(tweet, 'retweeted_status'):\n",
    "            \n",
    "            if len(rows)== 0 :\n",
    "                rows.append([tweet.id,tweet.user.screen_name,tweet.created_at,('RT @'+ tweet.retweeted_status.user.screen_name + ' ' + tweet.retweeted_status.text).encode('utf-8')])\n",
    "            if len(rows) > 0 and tweet.id != rows[-1][0] :\n",
    "                rows.append([tweet.id,tweet.user.screen_name,tweet.created_at,('RT @'+ tweet.retweeted_status.user.screen_name + ' ' + tweet.retweeted_status.text).encode('utf-8')])      \n",
    "        else:\n",
    "            if len(rows)== 0 :\n",
    "                rows.append([tweet.id,tweet.user.screen_name,tweet.created_at,tweet.text.encode('utf-8')])\n",
    "            if len(rows) > 0 and tweet.id != rows[-1][0] :\n",
    "                rows.append([tweet.id,tweet.user.screen_name,tweet.created_at,tweet.text.encode('utf-8')])      \n",
    "        \n",
    "        #把text存到一个文件txt\n",
    "        fo.write(tweet.text.encode('utf-8'))\n",
    "    i += 1\n",
    "    #暂停2秒再执行下一次搜索\n",
    "    time.sleep(2)\n",
    "\n",
    "with open('zh_metoo-1201.csv','a') as f:\n",
    "    f_csv = csv.writer(f)\n",
    "    f_csv.writerows(rows)\n",
    "f.close()\n"
   ]
  },
  {
   "cell_type": "code",
   "execution_count": null,
   "metadata": {
    "collapsed": true
   },
   "outputs": [],
   "source": []
  }
 ],
 "metadata": {
  "kernelspec": {
   "display_name": "Python 2",
   "language": "python",
   "name": "python2"
  },
  "language_info": {
   "codemirror_mode": {
    "name": "ipython",
    "version": 2
   },
   "file_extension": ".py",
   "mimetype": "text/x-python",
   "name": "python",
   "nbconvert_exporter": "python",
   "pygments_lexer": "ipython2",
   "version": "2.7.13"
  }
 },
 "nbformat": 4,
 "nbformat_minor": 2
}
