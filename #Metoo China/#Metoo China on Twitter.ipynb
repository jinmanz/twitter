{
 "cells": [
  {
   "cell_type": "code",
   "execution_count": 1,
   "metadata": {
    "collapsed": true
   },
   "outputs": [],
   "source": [
    " # Importing more generic libraries\n",
    "import glob\n",
    "import os\n",
    "import math\n",
    "import csv\n",
    "import ast\n",
    "from collections import Counter\n",
    "\n",
    "# Importing data structure libraries\n",
    "import pandas as pd\n",
    "import numpy as np\n",
    "\n",
    "# Import graphing tools\n",
    "import matplotlib.pyplot as plt\n",
    "import matplotlib.dates as mdates\n",
    "\n",
    "# Ensure that any graphs produced appears in the notebook\n",
    "%matplotlib inline\n",
    "\n",
    "# Import text analysist tools\n",
    "import re\n",
    "import nltk\n",
    "from nltk.tokenize import RegexpTokenizer"
   ]
  },
  {
   "cell_type": "code",
   "execution_count": 2,
   "metadata": {
    "collapsed": true
   },
   "outputs": [],
   "source": [
    "import csv\n",
    "\n",
    "# open raw data and seperate data in to days\n",
    "with open('#metoochina.csv') as csvfile:\n",
    "    readCSV = csv.reader(csvfile, delimiter='|')\n",
    "    for row in readCSV:\n",
    "        if row[1]=='2018-07-26':\n",
    "            with open('0726.csv','a') as f:\n",
    "                wr = csv.writer(f,dialect = 'excel')\n",
    "                wr.writerow(row)\n",
    "        if row[1]=='2018-07-27':\n",
    "            with open('0727.csv','a') as f:\n",
    "                wr = csv.writer(f,dialect = 'excel')\n",
    "                wr.writerow(row)\n",
    "        if row[1]=='2018-07-28':\n",
    "            with open('0728.csv','a') as f:\n",
    "                wr = csv.writer(f,dialect = 'excel')\n",
    "                wr.writerow(row)\n",
    "        if row[1]=='2018-07-29':\n",
    "            with open('0729.csv','a') as f:\n",
    "                wr = csv.writer(f,dialect = 'excel')\n",
    "                wr.writerow(row)\n",
    "        if row[1]=='2018-07-30':\n",
    "            with open('0730.csv','a') as f:\n",
    "                wr = csv.writer(f,dialect = 'excel')\n",
    "                wr.writerow(row)\n",
    "        if row[1]=='2018-08-01':\n",
    "            with open('0801.csv','a') as f:\n",
    "                wr = csv.writer(f,dialect = 'excel')\n",
    "                wr.writerow(row)\n",
    "        if row[1]=='2018-08-02':\n",
    "            with open('0802.csv','a') as f:\n",
    "                wr = csv.writer(f,dialect = 'excel')\n",
    "                wr.writerow(row)\n",
    "        if row[1]=='2018-08-03':\n",
    "            with open('0803.csv','a') as f:\n",
    "                wr = csv.writer(f,dialect = 'excel')\n",
    "                wr.writerow(row)\n",
    "        if row[1]=='2018-08-04':\n",
    "            with open('0804.csv','a') as f:\n",
    "                wr = csv.writer(f,dialect = 'excel')\n",
    "                wr.writerow(row)\n",
    "        if row[1]=='2018-08-05':\n",
    "            with open('0805.csv','a') as f:\n",
    "                wr = csv.writer(f,dialect = 'excel')\n",
    "                wr.writerow(row)\n",
    "        if row[1]=='2018-08-06':\n",
    "            with open('0806.csv','a') as f:\n",
    "                wr = csv.writer(f,dialect = 'excel')\n",
    "                wr.writerow(row)\n"
   ]
  },
  {
   "cell_type": "code",
   "execution_count": 44,
   "metadata": {},
   "outputs": [
    {
     "ename": "TypeError",
     "evalue": "unsupported operand type(s) for >>: 'builtin_function_or_method' and 'OutStream'. Did you mean \"print(<message>, file=<output_stream>)\"?",
     "output_type": "error",
     "traceback": [
      "\u001b[0;31m---------------------------------------------------------------------------\u001b[0m",
      "\u001b[0;31mTypeError\u001b[0m                                 Traceback (most recent call last)",
      "\u001b[0;32m<ipython-input-44-4796040708c1>\u001b[0m in \u001b[0;36m<module>\u001b[0;34m()\u001b[0m\n\u001b[1;32m     25\u001b[0m \u001b[0mq\u001b[0m \u001b[0;34m=\u001b[0m \u001b[0;34m'#我也是'\u001b[0m\u001b[0;34m\u001b[0m\u001b[0m\n\u001b[1;32m     26\u001b[0m \u001b[0;31m# Comma-separated list of terms, start with something busy to test your script, then once you know its working put your hashtags in, max 400 tags\u001b[0m\u001b[0;34m\u001b[0m\u001b[0;34m\u001b[0m\u001b[0m\n\u001b[0;32m---> 27\u001b[0;31m \u001b[0mprint\u001b[0m \u001b[0;34m>>\u001b[0m \u001b[0msys\u001b[0m\u001b[0;34m.\u001b[0m\u001b[0mstderr\u001b[0m\u001b[0;34m,\u001b[0m \u001b[0;34m'Filtering the public timeline for track=\"%s\"'\u001b[0m \u001b[0;34m%\u001b[0m \u001b[0;34m(\u001b[0m\u001b[0mq\u001b[0m\u001b[0;34m,\u001b[0m\u001b[0;34m)\u001b[0m\u001b[0;34m\u001b[0m\u001b[0m\n\u001b[0m\u001b[1;32m     28\u001b[0m \u001b[0;31m# Reference the self.auth parameter\u001b[0m\u001b[0;34m\u001b[0m\u001b[0;34m\u001b[0m\u001b[0m\n\u001b[1;32m     29\u001b[0m \u001b[0mtwitter_stream\u001b[0m \u001b[0;34m=\u001b[0m \u001b[0mtwitter\u001b[0m\u001b[0;34m.\u001b[0m\u001b[0mTwitterStream\u001b[0m\u001b[0;34m(\u001b[0m\u001b[0mauth\u001b[0m\u001b[0;34m=\u001b[0m\u001b[0mtwitter_api\u001b[0m\u001b[0;34m.\u001b[0m\u001b[0mauth\u001b[0m\u001b[0;34m)\u001b[0m\u001b[0;34m\u001b[0m\u001b[0m\n",
      "\u001b[0;31mTypeError\u001b[0m: unsupported operand type(s) for >>: 'builtin_function_or_method' and 'OutStream'. Did you mean \"print(<message>, file=<output_stream>)\"?"
     ]
    }
   ],
   "source": []
  },
  {
   "cell_type": "code",
   "execution_count": null,
   "metadata": {
    "collapsed": true
   },
   "outputs": [],
   "source": []
  },
  {
   "cell_type": "code",
   "execution_count": null,
   "metadata": {
    "collapsed": true
   },
   "outputs": [],
   "source": []
  }
 ],
 "metadata": {
  "kernelspec": {
   "display_name": "Python 3",
   "language": "python",
   "name": "python3"
  },
  "language_info": {
   "codemirror_mode": {
    "name": "ipython",
    "version": 3
   },
   "file_extension": ".py",
   "mimetype": "text/x-python",
   "name": "python",
   "nbconvert_exporter": "python",
   "pygments_lexer": "ipython3",
   "version": "3.6.4"
  }
 },
 "nbformat": 4,
 "nbformat_minor": 2
}
