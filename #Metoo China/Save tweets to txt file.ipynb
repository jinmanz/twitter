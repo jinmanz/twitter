{
 "cells": [
  {
   "cell_type": "code",
   "execution_count": 1,
   "metadata": {
    "collapsed": true
   },
   "outputs": [],
   "source": [
    " # Importing more generic libraries\n",
    "import glob\n",
    "import os\n",
    "import math\n",
    "import csv\n",
    "import ast\n",
    "import collections\n",
    "from collections import Counter\n",
    "\n",
    "# Importing data structure libraries\n",
    "import pandas as pd\n",
    "import numpy as np\n",
    "\n",
    "# Import graphing tools\n",
    "import matplotlib.pyplot as plt\n",
    "import matplotlib.dates as mdates\n",
    "\n",
    "# Ensure that any graphs produced appears in the notebook\n",
    "%matplotlib inline\n",
    "\n",
    "# Import text analysist tools\n",
    "import re\n",
    "import nltk\n",
    "from nltk.tokenize import RegexpTokenizer\n",
    "import csv\n",
    "import pandas as pd"
   ]
  },
  {
   "cell_type": "code",
   "execution_count": 2,
   "metadata": {
    "collapsed": true
   },
   "outputs": [],
   "source": [
    "# Save the dataframe into a file\n",
    "# Parameters:\n",
    "# data_frame_name = Name of the dataframe to save\n",
    "# name_of_file    = The name of the file you want to save it as\n",
    "def save_frame(data_frame_name, name_of_file):\n",
    "    \n",
    "    print(\"Begin saving dataframe into a csv.\\n\")\n",
    "    \n",
    "    name = name_of_file + \".csv\"\n",
    "    # Save the dataframe\n",
    "    data_frame_name.to_csv(name, sep=',', encoding='utf-8')\n",
    "    \n",
    "    print(\"Finish and saved into \" + name + \"\\n\")\n",
    "\n",
    "# Loads the dataframe from a single file. By default it skips the 1st column (this is usually the index) \n",
    "# Parameters:\n",
    "# csv_file_name   = Name of the file to load\n",
    "# length          = The amount of columns to load (take the amount of columns + 1)\n",
    "# custom          = If you want to load in a selective column amount turn true\n",
    "# colList         = Which columns you want to load\n",
    "# colNames        = The names of the columns that you want to load\n",
    "def read_frame(csv_file_name, length=None, custom= False, colList = None, colNames = None):\n",
    "    print(\"Reading csv \" + csv_file_name)\n",
    "    name = csv_file_name + \".csv\"\n",
    "    \n",
    "    # Load csv by specifying which ones you want \n",
    "    if custom:\n",
    "        return_frame = pd.read_csv(name,  usecols = colList)\n",
    "    # Load csv by length skipping the first one (index)\n",
    "    else: \n",
    "        return_frame = pd.read_csv(name,  usecols = range(1,length))\n",
    "    print(\"Finish reading \" + csv_file_name + \"\\n\")\n",
    "    return return_frame\n",
    "\n",
    "# Similar to the one before except this converts the list present in the csv back into list objects to be used\n",
    "# Parameters:\n",
    "# csv_file_name   = Name of the file to load\n",
    "# columnNames     = The names of the columns that you want to load\n",
    "# length          = The amount of columns to load (take the amount of columns + 1)\n",
    "# custom          = If you want to load in a selective column amount turn true\n",
    "# colList         = Which columns you want to load\n",
    "def read_frame_convert_list (csv_file_name, columnNames, length=None, custom= False, colList = None):\n",
    "    \n",
    "    # Create the function to convert to a list\n",
    "    string_to_list = lambda x: ast.literal_eval(str(x))\n",
    "\n",
    "    # Create the converter that will convert all the columns we tell it to back to a list object\n",
    "    conv = {}\n",
    "    \n",
    "    # Assign the converter for each column to convert\n",
    "    for entry in columnNames:\n",
    "        conv[entry] = string_to_list\n",
    "    \n",
    "    print(\"Reading csv \" + csv_file_name)\n",
    "    name = csv_file_name + \".csv\"\n",
    "\n",
    "    # Load a specified amount of columns from the csv\n",
    "    if custom:\n",
    "        return_frame = pd.read_csv(name,  usecols = colList,  converters=conv)\n",
    "    \n",
    "    # Load the csv based on length\n",
    "    else: \n",
    "        return_frame = pd.read_csv(name,  usecols = range(1,length),  converters=conv)\n",
    "    print(\"Finish reading \" + csv_file_name + \"\\n\")\n",
    "    \n",
    "    return return_frame"
   ]
  },
  {
   "cell_type": "code",
   "execution_count": 3,
   "metadata": {
    "collapsed": true
   },
   "outputs": [],
   "source": [
    "# Start inital setup\n",
    "MasterTweetFrame = pd.DataFrame(pd.read_csv('tweets_simpleZH.csv'), columns=['date','name','tweet'])"
   ]
  },
  {
   "cell_type": "code",
   "execution_count": 8,
   "metadata": {},
   "outputs": [],
   "source": [
    "text = MasterTweetFrame[['tweet']]\n",
    "text.to_csv(r'tweets.txt', header=None, index=None, sep=' ', mode='a')"
   ]
  },
  {
   "cell_type": "code",
   "execution_count": null,
   "metadata": {},
   "outputs": [],
   "source": []
  },
  {
   "cell_type": "code",
   "execution_count": null,
   "metadata": {
    "collapsed": true
   },
   "outputs": [],
   "source": []
  }
 ],
 "metadata": {
  "kernelspec": {
   "display_name": "Python 3",
   "language": "python",
   "name": "python3"
  },
  "language_info": {
   "codemirror_mode": {
    "name": "ipython",
    "version": 3
   },
   "file_extension": ".py",
   "mimetype": "text/x-python",
   "name": "python",
   "nbconvert_exporter": "python",
   "pygments_lexer": "ipython3",
   "version": "3.6.4"
  }
 },
 "nbformat": 4,
 "nbformat_minor": 2
}
