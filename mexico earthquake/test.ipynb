{
 "cells": [
  {
   "cell_type": "code",
   "execution_count": 4,
   "metadata": {},
   "outputs": [],
   "source": [
    " # -*- coding: utf-8 -*-     \n",
    "import tweepy \n",
    "from tweepy import OAuthHandler\n",
    "import csv\n",
    "import time\n",
    "\n",
    "\n",
    "consumer_key = \"WRzrHerkO3PQFE9PsbOSVJxUO\"  \n",
    "consumer_secret = \"l2F8owgWRm33SeK7ts5Vs6yBU3Qd2FbXzVoM2x9k0BFsXbqLfr\"  \n",
    "access_token = \"527454179-JZ7zT9M4jgffQYqn3SG7W1z3UdphCT5irgXI96Qa\"  \n",
    "access_token_secret = \"Ljtj25dztSwJ4OGs2IfB2vkGhdghmvZl4cLMSkCssKxnJ\" \n",
    "\n",
    "# 使用API对象获取你的时间轴上的微博，并把结果存在一个叫做public_tweets的变量中\n",
    "auth = OAuthHandler(consumer_key, consumer_secret)\n",
    "auth.set_access_token(access_token, access_token_secret)\n",
    "api = tweepy.API(auth)\n",
    "public_tweets = api.home_timeline()  \n",
    "\n",
    "# 传入认证信息，并创建API对象\n",
    "api = tweepy.API(auth)\n",
    "\n",
    "# 你想查找的关键字\n",
    "query = 'Mexico city'\n",
    "# 语言代码（遵循ISO 639-1标准）\n",
    "language = 'en'\n",
    "\n",
    "    \n",
    "#把用户名和text存到一个csv  \n",
    "rows = []\n",
    "i = 0\n",
    "fo = open('test.txt', 'a')\n",
    "#取1000条\n",
    "while i < 10:\n",
    "    results = api.search(q=query, lang=language,since='2018-07-26',until='2017-07-27',include_rts='true', count = 100)\n",
    "    for tweet in results:\n",
    "        if len(rows)== 0 :\n",
    "            rows.append([tweet.id,tweet.user.screen_name,tweet.created_at,tweet.text])\n",
    "        if len(rows) > 0 and tweet.id != rows[-1][0] :\n",
    "            rows.append([tweet.id,tweet.user.screen_name,tweet.created_at,tweet.text])      \n",
    "        #把text存到一个文件txt\n",
    "        fo.write(tweet.text)\n",
    "    i += 1\n",
    "    #暂停2秒再执行下一次搜索\n",
    "    time.sleep(2)\n",
    "\n",
    "with open('test.csv','a') as f:\n",
    "    f_csv = csv.writer(f)\n",
    "    f_csv.writerows(rows)\n",
    "f.close()"
   ]
  },
  {
   "cell_type": "code",
   "execution_count": null,
   "metadata": {
    "collapsed": true
   },
   "outputs": [],
   "source": []
  }
 ],
 "metadata": {
  "kernelspec": {
   "display_name": "Python 3",
   "language": "python",
   "name": "python3"
  },
  "language_info": {
   "codemirror_mode": {
    "name": "ipython",
    "version": 3
   },
   "file_extension": ".py",
   "mimetype": "text/x-python",
   "name": "python",
   "nbconvert_exporter": "python",
   "pygments_lexer": "ipython3",
   "version": "3.6.4"
  }
 },
 "nbformat": 4,
 "nbformat_minor": 2
}
