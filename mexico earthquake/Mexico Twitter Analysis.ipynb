{
 "cells": [
  {
   "cell_type": "markdown",
   "metadata": {},
   "source": [
    "# Mexico earthquake twitter analysis\n",
    "- In this notebook, we'll analyze the tweets posted 10 days after the Mexico earthquake at Sept. 20. \n",
    "- Firstly, we will explore the top twenty words from the tweets to see what people care most after the earthquake. \n",
    "- Secondly, we will use Concordance analysis to see the context of a given word to have a better understand of it.\n",
    "- Next, we can also plot a despersion of the given words, from which we can have a general idea like which word keeps popular from the begining to the end of the selected period, and which word only appears more frequently at a specific day.\n",
    "- Then, we will do a simple sentiment analysis with TextBlob.\n",
    "- At last, we will do a LDA topic modeling."
   ]
  },
  {
   "cell_type": "markdown",
   "metadata": {},
   "source": [
    "# Top twenty words"
   ]
  },
  {
   "cell_type": "code",
   "execution_count": 5,
   "metadata": {
    "collapsed": true
   },
   "outputs": [],
   "source": [
    "# define a function to get .csv files in a folder\n",
    "from os import listdir\n",
    "def list_textfiles(directory):\n",
    "    \"Return a list of filenames ending in '.txt' in DIRECTORY.\"\n",
    "    textfiles = []\n",
    "    for filename in listdir(directory):\n",
    "        if filename.endswith(\".csv\"):\n",
    "            textfiles.append(directory + \"/\" + filename)\n",
    "    return textfiles"
   ]
  },
  {
   "cell_type": "code",
   "execution_count": 6,
   "metadata": {
    "collapsed": true
   },
   "outputs": [],
   "source": [
    "# define a function to read the text in a .csv file\n",
    "import csv\n",
    "def read_txt(filename):\n",
    "    tweet_text = []\n",
    "    with open(filename,'rb') as f:\n",
    "        reader = csv.reader(f)\n",
    "        for row in reader:\n",
    "            tweet_text.append(row[3])\n",
    "    #return a list of twitter text\n",
    "    return tweet_text"
   ]
  },
  {
   "cell_type": "markdown",
   "metadata": {},
   "source": [
    "- read twitter text from the all csv files and store them in a list: all_tweets\n",
    "- convert all_tweets to a string variable : all_tweets_str in order to clean @username, http, and tokenize later"
   ]
  },
  {
   "cell_type": "code",
   "execution_count": 7,
   "metadata": {
    "collapsed": true
   },
   "outputs": [],
   "source": [
    "all_tweets = []\n",
    "for file in list_textfiles('csv'):\n",
    "    all_tweets.append(' '.join(read_txt(file)))\n",
    "#convert all_tweets to a string\n",
    "all_tweets_str = ' '.join(all_tweets)\n"
   ]
  },
  {
   "cell_type": "markdown",
   "metadata": {},
   "source": [
    "- clean @username, http"
   ]
  },
  {
   "cell_type": "code",
   "execution_count": 8,
   "metadata": {
    "collapsed": true
   },
   "outputs": [],
   "source": [
    "import re\n",
    "# all_tweets_cleaned is a string\n",
    "all_tweets_cleaned = re.sub(\"(@[A-Za-z0-9]+)|([^0-9A-Za-z \\t])|(\\w+:\\/\\/\\S+)\",\" \",all_tweets_str)\n"
   ]
  },
  {
   "cell_type": "markdown",
   "metadata": {},
   "source": [
    "Then remove stopwords from the contents.\n",
    "    1. extends nltk stopwords list as a new stopword list\n",
    "    2. remove stopwords using the new list"
   ]
  },
  {
   "cell_type": "code",
   "execution_count": 9,
   "metadata": {
    "collapsed": true
   },
   "outputs": [],
   "source": [
    "from nltk.corpus import stopwords\n",
    "stoplist = stopwords.words('english')\n",
    "add_words = \"RT rt\"\n",
    "stoplist += add_words.split()\n",
    "all_tweets_removeSW = [word for word in all_tweets_cleaned.lower().split() if word not in stoplist]\n"
   ]
  },
  {
   "cell_type": "markdown",
   "metadata": {},
   "source": [
    "- stemming words"
   ]
  },
  {
   "cell_type": "code",
   "execution_count": 10,
   "metadata": {
    "collapsed": true
   },
   "outputs": [],
   "source": [
    "#stemming words\n",
    "from nltk.stem import PorterStemmer\n",
    "tweetwords_stemmed = []\n",
    "ps = PorterStemmer()\n",
    "for word in all_tweets_removeSW:\n",
    "    tweetwords_stemmed.append(ps.stem(word))\n"
   ]
  },
  {
   "cell_type": "markdown",
   "metadata": {},
   "source": [
    "- count term frequency\n",
    "- store the most common words in a list called tf_sorted"
   ]
  },
  {
   "cell_type": "code",
   "execution_count": 11,
   "metadata": {
    "collapsed": true
   },
   "outputs": [],
   "source": [
    "import collections\n",
    "#count term frequency\n",
    "tf = collections.Counter(tweetwords_stemmed)\n",
    "tf_sorted_word = []\n",
    "tf_sorted_frequency = []\n",
    "for word,freq in tf.most_common():\n",
    "    tf_sorted_word.append(word)\n",
    "    tf_sorted_frequency.append(freq)\n"
   ]
  },
  {
   "cell_type": "markdown",
   "metadata": {},
   "source": [
    "- Plot histogram "
   ]
  },
  {
   "cell_type": "code",
   "execution_count": 12,
   "metadata": {},
   "outputs": [
    {
     "data": {
      "image/png": "[encoded data removed]",
      "text/plain": [
       "<matplotlib.figure.Figure at 0x1113d5810>"
      ]
     },
     "metadata": {},
     "output_type": "display_data"
    }
   ],
   "source": [
    "import matplotlib.pyplot as plt\n",
    "from matplotlib import *\n",
    "labels = tf_sorted_word[:20]\n",
    "data = tf_sorted_frequency[:20]\n",
    "\n",
    "plt.bar(range(len(data)), data, tick_label=labels,color='#E9BEE9')\n",
    "plt.xticks(rotation='vertical') #avoid overlap of the labels in x-axis\n",
    "\n",
    "plt.show()\n"
   ]
  },
  {
   "cell_type": "markdown",
   "metadata": {},
   "source": [
    "- So we can see that 'mexico', 'citi' and 'earthquak' are the top three words that appears more often than other words.\n",
    "The reason could be that the tweets were searched with the key words incuding \"Mexico City\" and \"earthquake\".\n",
    "- We can also see that the words listed here are stemmed, so we can see words like 'eathquak','citi', and 'donat'.\n",
    "\n",
    "Next:\n",
    "- we will have a close look at the specific words in this graph, like 'frida', does it means that female artist? So we will conduct a concordance (key word in context) analysis to get the context of a target word.\n",
    "- we will also  see the frequency of these words in each day from 9.20 to 9.30.\n"
   ]
  },
  {
   "cell_type": "markdown",
   "metadata": {},
   "source": [
    "# Concordance"
   ]
  },
  {
   "cell_type": "code",
   "execution_count": 13,
   "metadata": {},
   "outputs": [
    {
     "name": "stdout",
     "output_type": "stream",
     "text": [
      "Displaying 10 of 1440 matches:\n",
      "f people helping looking for survivors under the rubble RT this is frida she has found 52 people in the buildings that collapsed in mexico \n",
      "ngs that collapsed in mexico city due to the earthquake RT this is frida she has found 52 people in the buildings that collapsed in mexico \n",
      "ngs that collapsed in mexico city due to the earthquake RT this is frida she has found 52 people in the buildings that collapsed in mexico \n",
      "ng together to lend in the rescue effort are incredible RT this is frida she has found 52 people in the buildings that collapsed in mexico \n",
      "ngs that collapsed in mexico city due to the earthquake RT this is frida she has found 52 people in the buildings that collapsed in mexico \n",
      "ool is false may have been created in confusion at scene RT QueenM Frida she has rescued 52 people in Mexico City She also had been in Hait\n",
      "ng together to lend in the rescue effort are incredible RT this is frida she has found 52 people in the buildings that collapsed in mexico \n",
      "ngs that collapsed in mexico city due to the earthquake RT this is frida she has found 52 people in the buildings that collapsed in mexico \n",
      "ngs that collapsed in mexico city due to the earthquake RT this is frida she has found 52 people in the buildings that collapsed in mexico \n",
      "o Ci An earthquake earlywarningsystem helped MexicoCity RT this is frida she has found 52 people in the buildings that collapsed in mexico \n"
     ]
    }
   ],
   "source": [
    "import nltk\n",
    "from nltk.text import Text\n",
    "# we tokenize the cleaned tweet string. if the url is not removed, error message found\n",
    "listOfTokens = nltk.word_tokenize(all_tweets_cleaned)\n",
    "theText = nltk.Text(listOfTokens)\n",
    "# we want to show the 140 words tweets, so the width is 140\n",
    "theText.concordance('frida',width = 140,lines = 10)\n"
   ]
  },
  {
   "cell_type": "markdown",
   "metadata": {},
   "source": [
    "- From the result we can see that firda is someone helped to found 52 people in the collapsed buildings. But without other information, we cannot know details about frida, and have to search for the origin tweet on twitter. \n",
    "- Searching for the origin tweet, we know that Frida is a rescue dog from the attached image. *How to fix this?"
   ]
  },
  {
   "cell_type": "markdown",
   "metadata": {},
   "source": [
    "## Plot the despersion of words\n",
    "- We can then plot the despertion of words in the text to see the trends of a specific word after the earthquake."
   ]
  },
  {
   "cell_type": "code",
   "execution_count": 14,
   "metadata": {},
   "outputs": [
    {
     "data": {
      "image/png": "[encoded data removed]",
      "text/plain": [
       "<matplotlib.figure.Figure at 0x111d57710>"
      ]
     },
     "metadata": {},
     "output_type": "display_data"
    }
   ],
   "source": [
    "import matplotlib\n",
    "\n",
    "# This is to force the plots to show inline rather than in another window\n",
    "%matplotlib inline \n",
    "\n",
    "theText.dispersion_plot([\"people\",\"frida\",\"volcano\",\"donate\",\"help\"])"
   ]
  },
  {
   "cell_type": "markdown",
   "metadata": {},
   "source": [
    "- We pick some words from the top20 words to see the trends of each word\n",
    "- So we can see that \"Frida\" as a hot word has two peaks after the earthquake, while \"help\" has a steady apearance in the text.\"Volcano\" came out later in the text, which means it has not become a hot word until at the early days right after the earthquake. The reality is that there was a volcano eruption several days after the earthquake, which was supposed to be impacted by the earthquake. @ABC news posted a tweet to deny this statement, and this tweet was retweeted thousands of times.\n"
   ]
  },
  {
   "cell_type": "markdown",
   "metadata": {},
   "source": [
    "## Sentiment analysis\n",
    "- Create two lists to store positive and negtive tweets.\n",
    "- number(positive)/(all tweets) = percentage of positive tweets."
   ]
  },
  {
   "cell_type": "code",
   "execution_count": 21,
   "metadata": {},
   "outputs": [],
   "source": [
    "all_tweets_text = [] # a list of all the tweet text\n",
    "for file in list_textfiles('csv'):\n",
    "    all_tweets_text.extend((read_txt(file)))\n"
   ]
  },
  {
   "cell_type": "markdown",
   "metadata": {},
   "source": [
    "- Clean each tweet in all_tweets_text, then analyze them"
   ]
  },
  {
   "cell_type": "code",
   "execution_count": 34,
   "metadata": {},
   "outputs": [
    {
     "name": "stdout",
     "output_type": "stream",
     "text": [
      "Negative tweets percentage: 21 %\n",
      "Positive tweets percentage: 37 %\n"
     ]
    }
   ],
   "source": [
    "from textblob import TextBlob\n",
    "positive = []\n",
    "negative = []\n",
    "for tweet in all_tweets_text:\n",
    "    if TextBlob(tweet.decode('utf-8')).sentiment.polarity > 0:\n",
    "        positive.append(tweet)\n",
    "    if TextBlob(tweet.decode('utf-8')).sentiment.polarity < 0:\n",
    "        negative.append(tweet)\n",
    "        \n",
    "print(\"Negative tweets percentage: {} %\".format(100*len(negative)/len(all_tweets_text)))\n",
    "print(\"Positive tweets percentage: {} %\".format(100*len(positive)/len(all_tweets_text)))\n",
    "\n"
   ]
  },
  {
   "cell_type": "markdown",
   "metadata": {},
   "source": [
    "## LDA topic modeling\n",
    "- Next we will try to explore the topics of the collected tweets using the LDA topic model."
   ]
  },
  {
   "cell_type": "markdown",
   "metadata": {},
   "source": [
    "- Vectorize"
   ]
  },
  {
   "cell_type": "code",
   "execution_count": 19,
   "metadata": {
    "collapsed": true
   },
   "outputs": [],
   "source": [
    "from sklearn.feature_extraction.text import TfidfVectorizer, CountVectorizer\n",
    "n_features = 1000\n",
    "tf_vectorizer = CountVectorizer(strip_accents = 'unicode',\n",
    "                                max_features=n_features,\n",
    "                                stop_words='english',\n",
    "                                max_df = 0.5,\n",
    "                                min_df = 10)\n",
    "tf = tf_vectorizer.fit_transform(listOfTokens)#参数应当是iterable的list"
   ]
  },
  {
   "cell_type": "markdown",
   "metadata": {},
   "source": [
    "- Import LDA and assume that there are 3 topics, then extract topics."
   ]
  },
  {
   "cell_type": "code",
   "execution_count": 31,
   "metadata": {},
   "outputs": [
    {
     "data": {
      "text/plain": [
       "LatentDirichletAllocation(batch_size=128, doc_topic_prior=None,\n",
       "             evaluate_every=-1, learning_decay=0.7,\n",
       "             learning_method='online', learning_offset=50.0,\n",
       "             max_doc_update_iter=100, max_iter=50, mean_change_tol=0.001,\n",
       "             n_components=3, n_jobs=1, n_topics=None, perp_tol=0.1,\n",
       "             random_state=0, topic_word_prior=None,\n",
       "             total_samples=1000000.0, verbose=0)"
      ]
     },
     "execution_count": 31,
     "metadata": {},
     "output_type": "execute_result"
    }
   ],
   "source": [
    "from sklearn.decomposition import LatentDirichletAllocation\n",
    "n_components = 3\n",
    "lda = LatentDirichletAllocation(n_components=n_components, max_iter=50,\n",
    "                                learning_method='online',\n",
    "                                learning_offset=50.,\n",
    "                                random_state=0)\n",
    "#extract topics\n",
    "lda.fit(tf)"
   ]
  },
  {
   "cell_type": "markdown",
   "metadata": {},
   "source": [
    "- Define a function to print the top 10 words in each topcis"
   ]
  },
  {
   "cell_type": "code",
   "execution_count": 32,
   "metadata": {},
   "outputs": [
    {
     "name": "stdout",
     "output_type": "stream",
     "text": [
      "Topic #0:\n",
      "city people collapsed rico spews puerto say ash officials dumps\n",
      "Topic #1:\n",
      "rt earthquake buildings quake related popocatepetl love 100 new provide\n",
      "Topic #2:\n",
      "mexico frida volcano 52 near week relief rock eruption help\n"
     ]
    }
   ],
   "source": [
    "def print_top_words(model, feature_names, n_top_words):\n",
    "    for topic_idx, topic in enumerate(model.components_):\n",
    "        print(\"Topic #%d:\" % topic_idx)\n",
    "        print(\" \".join([feature_names[i]\n",
    "                        for i in topic.argsort()[:-n_top_words - 1:-1]]))\n",
    "\n",
    "n_top_words = 10\n",
    "tf_feature_names = tf_vectorizer.get_feature_names()\n",
    "print_top_words(lda, tf_feature_names, n_top_words)"
   ]
  },
  {
   "cell_type": "markdown",
   "metadata": {
    "collapsed": true
   },
   "source": [
    "- We can see that the tweets are not idea corpus for LDA topic analysis, as the contents are homogenous."
   ]
  },
  {
   "cell_type": "markdown",
   "metadata": {},
   "source": [
    "Reference:\n",
    "https://github.com/GeoffreyRockwell/Big-Data-Class-Materials"
   ]
  }
 ],
 "metadata": {
  "kernelspec": {
   "display_name": "Python 2",
   "language": "python",
   "name": "python2"
  },
  "language_info": {
   "codemirror_mode": {
    "name": "ipython",
    "version": 2
   },
   "file_extension": ".py",
   "mimetype": "text/x-python",
   "name": "python",
   "nbconvert_exporter": "python",
   "pygments_lexer": "ipython2",
   "version": "2.7.13"
  }
 },
 "nbformat": 4,
 "nbformat_minor": 2
}
